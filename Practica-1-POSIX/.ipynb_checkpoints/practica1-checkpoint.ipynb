{
 "cells": [
  {
   "cell_type": "code",
   "execution_count": null,
   "metadata": {},
   "outputs": [
    {
     "name": "stdout",
     "output_type": "stream",
     "text": [
      "720\n",
      "8 3\n",
      "8 5\n",
      "8 7\n",
      "8 9\n",
      "8 11\n",
      "8 13\n",
      "8 15\n",
      "16 3\n",
      "16 5\n",
      "16 7\n",
      "16 9\n",
      "16 11\n"
     ]
    }
   ],
   "source": [
    "from IPython.display import display, Image\n",
    "import pandas as pd\n",
    "\n",
    "!gcc blur-effect.c -o blur -lm -pthread\n",
    "\n",
    "\n",
    "\n",
    "image_names = ['720']#, '1080', '4k']\n",
    "images = []\n",
    "dfs = {}\n",
    "iterations = 10\n",
    "\n",
    "\n",
    "\n",
    "for image in image_names:\n",
    "    print(image)\n",
    "    times = pd.DataFrame()\n",
    "    for threads in range(3,5):\n",
    "        for kernel in range(7):        \n",
    "            t = []\n",
    "            print(2**threads,3 + 2*kernel)\n",
    "            for _ in range(iterations):\n",
    "                t_out = !/usr/bin/time -f \"%e\" ./blur {image}.jpg {image}_blur.jpg {3 + 2*kernel} {2**threads}\n",
    "                t.append(float(t_out[0]))            \n",
    "            times = times.append(pd.Series(t, dtype = \"float64\"), ignore_index = True)\n",
    "    print(times)\n",
    "    dfs[image] = times\n",
    "    dfs[image].to_csv( image + \"_time.csv\" )\n",
    "    images.append(Image((image + '_blur.jpg'), width = 500))\n",
    "\n",
    "    \n",
    "\n",
    "            \n",
    "            \n",
    "display(*images)"
   ]
  },
  {
   "cell_type": "code",
   "execution_count": null,
   "metadata": {},
   "outputs": [],
   "source": []
  }
 ],
 "metadata": {
  "kernelspec": {
   "display_name": "Python 3",
   "language": "python",
   "name": "python3"
  },
  "language_info": {
   "codemirror_mode": {
    "name": "ipython",
    "version": 3
   },
   "file_extension": ".py",
   "mimetype": "text/x-python",
   "name": "python",
   "nbconvert_exporter": "python",
   "pygments_lexer": "ipython3",
   "version": "3.7.5"
  }
 },
 "nbformat": 4,
 "nbformat_minor": 4
}
